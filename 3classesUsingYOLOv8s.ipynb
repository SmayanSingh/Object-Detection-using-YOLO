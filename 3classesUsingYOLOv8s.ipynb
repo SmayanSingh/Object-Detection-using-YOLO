{
  "cells": [
    {
      "cell_type": "code",
      "execution_count": null,
      "metadata": {
        "colab": {
          "base_uri": "https://localhost:8080/"
        },
        "collapsed": true,
        "id": "oG2_VH3c6z27",
        "outputId": "a448bae1-2e12-47f0-b7dc-2e81bbd65a93"
      },
      "outputs": [
        {
          "name": "stdout",
          "output_type": "stream",
          "text": [
      
          ]
        }
      ],
      "source": [
        "!pip install yolov5"
      ]
    },
    {
      "cell_type": "code",
      "execution_count": null,
      "metadata": {
        "colab": {
          "base_uri": "https://localhost:8080/"
        },
        "collapsed": true,
        "id": "Gmm3JTw668of",
        "outputId": "69b24d3c-3553-47d9-fbc7-3505110567b6"
      },
      "outputs": [
        {
          "name": "stdout",
          "output_type": "stream",
          "text": [
          
          ]
        }
      ],
      "source": [
        "!pip install ultralytics"
      ]
    },
    {
      "cell_type": "code",
      "execution_count": null,
      "metadata": {
        "colab": {
          "base_uri": "https://localhost:8080/"
        },
        "collapsed": true,
        "id": "WTp3rqgu6_YL",
        "outputId": "44851aed-bb39-46cf-861d-5c3a8993bf66"
      },
      "outputs": [
        {
          "name": "stdout",
          "output_type": "stream",
          "text": [
       
          ]
        }
      ],
      "source": [
        "!pip install labelme2yolo"
      ]
    },
    {
      "cell_type": "code",
      "execution_count": null,
      "metadata": {
        "id": "TCRQZ3-X7CBE"
      },
      "outputs": [],
      "source": [
        "from ultralytics import YOLO"
      ]
    },
    {
      "cell_type": "code",
      "execution_count": null,
      "metadata": {
        "id": "USnBVcnF7h-y"
      },
      "outputs": [],
      "source": [
        "model= YOLO(\"/content/drive/MyDrive/Yolo Complete Crops Dataset/YOLODataset/yolov8s.pt\")"
      ]
    },
    {
      "cell_type": "code",
      "execution_count": null,
      "metadata": {
        "colab": {
          "background_save": true
        },
        "id": "CE2QgRHE8A03"
      },
      "outputs": [],
      "source": [
        "results = model.train(data=\"/content/drive/MyDrive/Yolo Complete Crops Dataset/YOLODataset/dataset.yaml\", epochs=20, imgsz=640)\n"
      ]
    },
    {
      "cell_type": "code",
      "execution_count": null,
      "metadata": {
        "id": "FRvPfgtgDZae"
      },
      "outputs": [],
      "source": [
        "model.predict(\"/content/drive/MyDrive/Yolo Complete Crops Dataset/YOLODataset/images/test/016bc46c94aa68e6ef385c1c97274896.png\", save=True, imgsz=640, conf=0.05)\n"
      ]
    }
  ],
  "metadata": {
    "colab": {
      "provenance": []
    },
    "kernelspec": {
      "display_name": "Python 3",
      "name": "python3"
    },
    "language_info": {
      "name": "python"
    }
  },
  "nbformat": 4,
  "nbformat_minor": 0
}
